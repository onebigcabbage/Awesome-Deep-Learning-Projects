{
 "cells": [
  {
   "cell_type": "code",
   "execution_count": 1,
   "metadata": {},
   "outputs": [],
   "source": [
    "from nltk.tokenize import sent_tokenize, word_tokenize\n",
    "from nltk.corpus import stopwords\n",
    "from string import punctuation\n",
    "from nltk.cluster.util import cosine_distance\n",
    "import numpy as np\n",
    "import networkx as nx"
   ]
  },
  {
   "cell_type": "code",
   "execution_count": 2,
   "metadata": {},
   "outputs": [],
   "source": [
    "# 两个句子的相似度\n",
    "def sentence_similarity(sent1, sent2):\n",
    "    \n",
    "    sent1 = [w.lower() for w in sent1]\n",
    "    sent2 = [w.lower() for w in sent2]\n",
    "    \n",
    "    all_words = list(set(sent1 + sent2))\n",
    "    \n",
    "    vector1 = [0] * len(all_words)\n",
    "    vector2 = [0] * len(all_words)\n",
    "    \n",
    "    for w in sent1:\n",
    "        vector1[all_words.index(w)] += 1\n",
    "        \n",
    "    for w in sent2:\n",
    "        vector2[all_words.index(w)] += 1\n",
    "    \n",
    "    return 1 - cosine_distance(vector1, vector2)"
   ]
  },
  {
   "cell_type": "code",
   "execution_count": 3,
   "metadata": {},
   "outputs": [],
   "source": [
    "def build_similarity_matrix(sentences):\n",
    "    \n",
    "    similarity_matrix = np.zeros((len(sentences), len(sentences)))\n",
    "    for idx1 in range(len(sentences)):\n",
    "        for idx2 in range(len(sentences)):\n",
    "            if idx1 == idx2:\n",
    "                continue\n",
    "            similarity_matrix[idx1][idx2] = sentence_similarity(sentences[idx1], sentences[idx2])\n",
    "    return similarity_matrix"
   ]
  },
  {
   "cell_type": "code",
   "execution_count": 36,
   "metadata": {},
   "outputs": [],
   "source": [
    "def generate_summary(file_name, top_n=5):\n",
    "    \n",
    "    summarize_text = []\n",
    "    \n",
    "    data = open(file_name, \"r\").read().replace('\\n', ' ')\n",
    "    \n",
    "    # 切分句子\n",
    "    article = data.split('. ')\n",
    "    sentences = []\n",
    "    \n",
    "    for sen in article:\n",
    "        sentences.append(sen.split(\" \"))\n",
    "        \n",
    "    # 句子转化为向量，并计算相似度\n",
    "    sentence_similarity_matrix = build_similarity_matrix(sentences)\n",
    "    \n",
    "    # 得到相似矩阵图\n",
    "    sentence_similarity_graph = nx.from_numpy_array(sentence_similarity_matrix)\n",
    "    print(sentence_similarity_graph.edges(data=True))\n",
    "    \n",
    "    # 计算图中每个节点的PageRank值\n",
    "    scores = nx.pagerank(sentence_similarity_graph)\n",
    "    ranked_sentence = sorted(((scores[i], s) for i, s in enumerate(sentences)), reverse=True)\n",
    "    \n",
    "    # 构建最后结果\n",
    "    for i in range(top_n):\n",
    "        summarize_text.append(\" \".join(ranked_sentence[i][1]))\n",
    "        \n",
    "    print(\"Summarize: \\n\", \". \".join(summarize_text))\n",
    "    "
   ]
  },
  {
   "cell_type": "code",
   "execution_count": 37,
   "metadata": {},
   "outputs": [
    {
     "name": "stdout",
     "output_type": "stream",
     "text": [
      "[(0, 1, {'weight': 0.26650089544451305}), (0, 2, {'weight': 0.31980107453341566}), (0, 3, {'weight': 0.21821789023599236}), (0, 4, {'weight': 0.3127716210856122}), (0, 5, {'weight': 0.1147078669352809}), (0, 6, {'weight': 0.22360679774997894}), (0, 7, {'weight': 0.3592106040535499}), (0, 8, {'weight': 0.22360679774997894}), (0, 9, {'weight': 0.24333213169614387}), (0, 10, {'weight': 0.06933752452815367}), (1, 2, {'weight': 0.2727272727272727}), (1, 3, {'weight': 0.23262105259961774}), (1, 4, {'weight': 0.22227711223719349}), (1, 5, {'weight': 0.14673479641335552}), (1, 6, {'weight': 0.19069251784911845}), (1, 7, {'weight': 0.30633583242699347}), (1, 8, {'weight': 0.1430193883868388}), (1, 9, {'weight': 0.27668578554642986}), (1, 10, {'weight': 0.059131239598908314}), (2, 3, {'weight': 0.37219368415938836}), (2, 4, {'weight': 0.3111879571320709}), (2, 5, {'weight': 0.19564639521780736}), (2, 6, {'weight': 0.09534625892455917}), (2, 7, {'weight': 0.1914598952668709}), (2, 8, {'weight': 0.19069251784911845}), (2, 9, {'weight': 0.3458572319330373}), (2, 10, {'weight': 0.059131239598908314}), (3, 4, {'weight': 0.27300945311597413}), (3, 5, {'weight': 0.20025046972870353}), (3, 6, {'weight': 0.14638501094227996}), (3, 7, {'weight': 0.1959654504174051}), (3, 8, {'weight': 0.048795003647426616}), (3, 9, {'weight': 0.2831969301619155}), (4, 5, {'weight': 0.23918243661746996}), (4, 6, {'weight': 0.27975144247209416}), (4, 7, {'weight': 0.2996023545092553}), (4, 8, {'weight': 0.18650096164806274}), (4, 9, {'weight': 0.23677853202210852}), (4, 10, {'weight': 0.17349447958987207}), (5, 6, {'weight': 0.15389675281277304}), (5, 7, {'weight': 0.2060214108575823}), (5, 8, {'weight': 0.051298917604257754}), (5, 9, {'weight': 0.2977291710259147}), (6, 7, {'weight': 0.32128773156099955}), (6, 8, {'weight': 0.19999999999999996}), (6, 9, {'weight': 0.03627381250550055}), (6, 10, {'weight': 0.18605210188381271}), (7, 8, {'weight': 0.16064386578049983}), (7, 9, {'weight': 0.14567913668701626}), (7, 10, {'weight': 0.09962709627734356}), (8, 9, {'weight': 0.10882143751650175}), (8, 10, {'weight': 0.18605210188381271}), (9, 10, {'weight': 0.08998425413316946})]\n",
      "Summarize: \n",
      " In order to install the beta software, you will need a supported device and be registered on the Apple Developer Center. Apple has released the first beta of iOS 12.3 and tvOS 12.3 to developers. The new 12.3 betas include the new Apple TV app which is scheduled to officially launch in May. For those of you with Apple鈥檚 third-generation set-top box, the firm has released a beta version of Apple TV Software 7.3 which can be downloaded and installed via iTunes. The developments comes just a few days since it released iOS 12.2 which came with support for Apple News+ and new Animoji\n"
     ]
    }
   ],
   "source": [
    "generate_summary(\"./data.txt\")"
   ]
  }
 ],
 "metadata": {
  "kernelspec": {
   "display_name": "Python 3",
   "language": "python",
   "name": "python3"
  },
  "language_info": {
   "codemirror_mode": {
    "name": "ipython",
    "version": 3
   },
   "file_extension": ".py",
   "mimetype": "text/x-python",
   "name": "python",
   "nbconvert_exporter": "python",
   "pygments_lexer": "ipython3",
   "version": "3.7.1"
  }
 },
 "nbformat": 4,
 "nbformat_minor": 2
}
